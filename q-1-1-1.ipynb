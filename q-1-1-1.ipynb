{
 "cells": [
  {
   "cell_type": "markdown",
   "metadata": {},
   "source": [
    "PART-1"
   ]
  },
  {
   "cell_type": "code",
   "execution_count": 1,
   "metadata": {},
   "outputs": [],
   "source": [
    "import sys\n",
    "import pandas as pd\n",
    "import numpy as np\n",
    "import operator\n",
    "import math\n",
    "from matplotlib import pyplot as plt"
   ]
  },
  {
   "cell_type": "code",
   "execution_count": null,
   "metadata": {},
   "outputs": [],
   "source": [
    "#Taking input of test file path\n",
    "testfile1 = sys.argv[1]\n",
    "testfile2 = sys.argv[2]"
   ]
  },
  {
   "cell_type": "code",
   "execution_count": 4,
   "metadata": {},
   "outputs": [],
   "source": [
    "#Adding column names to dataset\n",
    "col_names = ['class', 'a1', 'a2', 'a3', 'a4', 'a5', 'a6', 'Id']\n",
    "dataset1 = pd.read_fwf('C:/Users/sarat/Desktop/assignment 2/RobotDataset/Robot1',sep = \" \",header = None,names = col_names)\n",
    "dataset2 = pd.read_fwf('C:/Users/sarat/Desktop/assignment 2/RobotDataset/Robot2',sep = \" \",header = None,names = col_names)\n",
    "dataset1 = dataset1.drop('Id',1)\n",
    "dataset2 = dataset2.drop('Id',1)"
   ]
  },
  {
   "cell_type": "code",
   "execution_count": 5,
   "metadata": {},
   "outputs": [],
   "source": [
    "X1 = dataset1\n",
    "y1 = dataset1['class']\n",
    "X2 = dataset2\n",
    "y2 = dataset2['class']"
   ]
  },
  {
   "cell_type": "code",
   "execution_count": 6,
   "metadata": {},
   "outputs": [],
   "source": [
    "# Split data into training and testing sets.\n",
    "from sklearn.model_selection import train_test_split\n",
    "X1_train, X1_test, y1_train, y1_test = train_test_split(X1, y1, test_size = 0.2, random_state=42)\n",
    "X1_test = X1_test.drop('class',1)\n",
    "X2_train, X2_test, y2_train, y2_test = train_test_split(X2, y2, test_size = 0.2, random_state=42)\n",
    "X2_test = X2_test.drop('class',1)"
   ]
  },
  {
   "cell_type": "code",
   "execution_count": 7,
   "metadata": {},
   "outputs": [],
   "source": [
    "# Euclidean Distance Caculator\n",
    "def dist(a, b, ax=1):\n",
    "    return math.sqrt(sum([(a - b) ** 2 for a, b in zip(a, b)]))"
   ]
  },
  {
   "cell_type": "code",
   "execution_count": 8,
   "metadata": {},
   "outputs": [],
   "source": [
    "#Utility function to give maximum occurance of value among k values\n",
    "def max_occur(k_near):\n",
    "    ans = {}\n",
    "    for i in list(k_near.keys()):\n",
    "        if(k_near[i] not in ans):\n",
    "            ans[k_near[i]] = 1\n",
    "        else:\n",
    "            ans[k_near[i]]+=1\n",
    "    return max(ans.items(), key=operator.itemgetter(1))[0]"
   ]
  },
  {
   "cell_type": "code",
   "execution_count": 9,
   "metadata": {},
   "outputs": [],
   "source": [
    "#K-NN algorithm\n",
    "def knn(X_test,X_train,k):\n",
    "    predict_Y = []\n",
    "    for i in range(len(X_test)):\n",
    "        k_near = {}\n",
    "        for j in range(len(X_train)):\n",
    "            k_dist = dist(list(X_test.iloc[i,:]),list(X_train.iloc[j,1:8]))\n",
    "            if(len(k_near)<k):\n",
    "                k_near[k_dist] = X_train.iloc[j,0]\n",
    "                max_k_near = max(k_near.keys())\n",
    "            else:\n",
    "                if(k_dist<max_k_near):\n",
    "                    del k_near[max_k_near]\n",
    "                    k_near[k_dist] = X_train.iloc[j,0]\n",
    "                    max_k_near = max(k_near.keys())\n",
    "        predict_Y.append(max_occur(k_near))\n",
    "    return predict_Y "
   ]
  },
  {
   "cell_type": "code",
   "execution_count": 10,
   "metadata": {},
   "outputs": [],
   "source": [
    "#predicted values of testing data\n",
    "y1_predict = knn(X1_test,X1_train,3)\n",
    "y2_predict = knn(X2_test,X2_train,3)"
   ]
  },
  {
   "cell_type": "code",
   "execution_count": 11,
   "metadata": {},
   "outputs": [],
   "source": [
    "#Compare function to compare predicted and test values of testing dataset\n",
    "\n",
    "def compare(Y_test,Y_pred):\n",
    "    tp = 0\n",
    "    tn = 0\n",
    "    fp = 0\n",
    "    fn = 0\n",
    "    for i in range(len(Y_test)):\n",
    "        if(Y_test[i]==Y_pred[i]):\n",
    "            if(Y_test[i] == 1):\n",
    "                tp+=1\n",
    "            else:\n",
    "                tn+=1\n",
    "        else:\n",
    "            if(Y_pred[i]==1):\n",
    "                fp+=1\n",
    "            else:\n",
    "                fn+=1\n",
    "    precision = tp/float(tp+fp)\n",
    "    recall = tp/float(tp+fn)\n",
    "    accuracy = (tp+tn)/float(tp+tn+fp+fn)\n",
    "    error_rate = (fp+fn)/float(tp+tn+fp+fn)\n",
    "    print(\"Precision : \",precision)\n",
    "    print(\"Recall : \",recall)\n",
    "    print(\"Accuracy : \",accuracy)\n",
    "    print(\"Error rate : \",error_rate)\n",
    "    return"
   ]
  },
  {
   "cell_type": "code",
   "execution_count": 12,
   "metadata": {},
   "outputs": [
    {
     "name": "stdout",
     "output_type": "stream",
     "text": [
      "-------------Validation---------------------\n",
      "------------For robot-1 dataset-------------\n",
      "Precision :  0.6153846153846154\n",
      "Recall :  0.8\n",
      "Accuracy :  0.72\n",
      "Error rate :  0.28\n",
      "------------For robot-2 dataset--------------\n",
      "Precision :  0.9090909090909091\n",
      "Recall :  0.8333333333333334\n",
      "Accuracy :  0.88\n",
      "Error rate :  0.12\n"
     ]
    }
   ],
   "source": [
    "print(\"-------------Validation---------------------\")\n",
    "print(\"------------For robot-1 dataset-------------\")\n",
    "compare(list(y1_test),y1_predict)\n",
    "print(\"------------For robot-2 dataset--------------\")\n",
    "compare(list(y2_test),y2_predict)"
   ]
  },
  {
   "cell_type": "markdown",
   "metadata": {},
   "source": [
    "TESTING DATA"
   ]
  },
  {
   "cell_type": "code",
   "execution_count": null,
   "metadata": {},
   "outputs": [],
   "source": [
    "td1 = pd.read_fwf(testfile1,sep = \" \",header = None,names = col_names)\n",
    "tX1 = td1.drop('Id',1)\n",
    "tX1 = tX1.drop('class',1)\n",
    "ty1 = td1['class']\n",
    "ty1_predict = knn(tX1,X1_train,3)\n",
    "print(\"-------For robot-1 test data -------\")\n",
    "compare(ty1_predict,list(ty1))\n",
    "\n",
    "td2 = pd.read_fwf(testfile2,sep = \" \",header = None,names = col_names)\n",
    "tX2 = td2.drop('Id',1)\n",
    "tX2 = tX2.drop('class',1)\n",
    "ty2 = td2['class']\n",
    "ty2_predict = knn(tX2,X2_train,3)\n",
    "print(\"-------For test-2 data -------\")\n",
    "compare(ty2_predict,list(ty2))"
   ]
  },
  {
   "cell_type": "markdown",
   "metadata": {},
   "source": [
    "PART-2"
   ]
  },
  {
   "cell_type": "code",
   "execution_count": 13,
   "metadata": {},
   "outputs": [
    {
     "name": "stdout",
     "output_type": "stream",
     "text": [
      "For robot-1, accuracy =  0.76\n",
      "For robot-2, accuracy =  0.88\n"
     ]
    }
   ],
   "source": [
    "## Import the Classifier.\n",
    "from sklearn.neighbors import KNeighborsClassifier\n",
    "X1_train = X1_train.drop('class',1)\n",
    "X2_train = X2_train.drop('class',1)\n",
    "## Instantiate the model with 5 neighbors. \n",
    "Knn = KNeighborsClassifier(n_neighbors=3)\n",
    "## Fit the model on the training data.\n",
    "Knn.fit(X1_train, y1_train)\n",
    "## See how the model performs on the test data.\n",
    "print(\"For robot-1, accuracy = \",Knn.score(X1_test, y1_test))\n",
    "Knn.fit(X2_train, y2_train)\n",
    "print(\"For robot-2, accuracy = \",Knn.score(X2_test, y2_test))\n"
   ]
  },
  {
   "cell_type": "code",
   "execution_count": 14,
   "metadata": {},
   "outputs": [
    {
     "data": {
      "image/png": "[encoded data removed]",
      "text/plain": [
       "<Figure size 432x288 with 1 Axes>"
      ]
     },
     "metadata": {
      "needs_background": "light"
     },
     "output_type": "display_data"
    }
   ],
   "source": [
    "#plotting graph with k value as X-axis and accuracy as y-axis\n",
    "x = [1,3,5,7,9,11]\n",
    "y1 = [0.64,0.72,0.8,0.8,0.84,0.88]\n",
    "y2 = [0.84,0.88,0.76,0.72,0.84,0.8]\n",
    "plt.plot(x,y1,'r')\n",
    "plt.plot(x,y2,'b')\n",
    "plt.legend(('Robot-1','Robot-2'))\n",
    "plt.title(\"K-value vs accuracy\")\n",
    "plt.ylabel('Accuracy')\n",
    "plt.xlabel('K-value')\n",
    "plt.grid(True)"
   ]
  },
  {
   "cell_type": "code",
   "execution_count": null,
   "metadata": {},
   "outputs": [],
   "source": []
  }
 ],
 "metadata": {
  "kernelspec": {
   "display_name": "Python 3",
   "language": "python",
   "name": "python3"
  },
  "language_info": {
   "codemirror_mode": {
    "name": "ipython",
    "version": 3
   },
   "file_extension": ".py",
   "mimetype": "text/x-python",
   "name": "python",
   "nbconvert_exporter": "python",
   "pygments_lexer": "ipython3",
   "version": "3.6.8"
  }
 },
 "nbformat": 4,
 "nbformat_minor": 2
}
